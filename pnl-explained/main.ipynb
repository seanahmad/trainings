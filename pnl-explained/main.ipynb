{
 "cells": [
  {
   "cell_type": "markdown",
   "metadata": {},
   "source": [
    "## PnL Explain :  Estimating PnL using sensitivities and Market Data\n",
    "\n",
    "For more context and definitions around pnl explained, [check out our article on atoti.io](https://www.atoti.io/pnl-explained-with-atoti/).\n",
    "\n",
    "### A few definitions:\n",
    "\n",
    "- [Portfolio](https://www.investopedia.com/terms/p/portfolio.asp) refers to any collection of financial assets such as stocks, bonds and cash. \n",
    "- [PnL](https://www.investopedia.com/terms/p/plstatement.asp) is a common term used in trading referring to the total \"Profit and Loss\" made by a portfolio over a certain time period.\n",
    "- [Maturity date](https://www.investopedia.com/terms/m/maturitydate.asp) refers to the due date on which a borrower must pay back the principal of a debt, i.e. the initial amount of money borrowed.\n",
    "- [Tenor](https://www.investopedia.com/terms/t/tenor.asp) refers to the length of time remaining in a contract, while maturity refers to the initial length of the agreement upon its inception. The tenor of a financial instrument declines over time, whereas its maturity remains constant.\n",
    "- [Yield curve](https://www.investopedia.com/terms/y/yieldcurve.asp) is a graphical representation of interest rates per maturity date.\n",
    "- [Sensitivity](https://www.investopedia.com/terms/s/sensitivity.asp) is the magnitude of a financial instrument's reaction to changes in underlying factors.\n",
    "- [Greeks](https://www.investopedia.com/terms/g/greeks.asp) describes the different dimensions of risk involved in taking an options position. \n",
    "- [Delta](https://www.investopedia.com/terms/d/delta.asp), in particular, is a first-order greek, and represents the ratio that compares the change in the price of an asset to the corresponding change in the price of its derivative. For example, if a stock option has a delta value of 0.75, this means that if the underlying stock increases in price by 1 dollar per share, the option on it will rise by 0.75 dollars per share.\n",
    "\n",
    "### Introduction\n",
    "\n",
    "The PnL explain technique seeks to estimate the daily PnL from the change in the underlying risk factors.\n",
    "In this case the risk factors are determined by the yield curve plotting interest rates for each tenor.\n",
    "\n",
    "Usually, a portfolio risk manager will monitor the risk factors that impact his portfolio, instead of monitoring all the positions booked in his portfolio. To assess what will be the value of his portfolio, a portfolio risk manager is interested in performing what-if analysis based on a scenario of the risk factor values."
   ]
  },
  {
   "cell_type": "code",
   "execution_count": null,
   "metadata": {},
   "outputs": [],
   "source": [
    "import atoti as tt"
   ]
  },
  {
   "cell_type": "code",
   "execution_count": null,
   "metadata": {},
   "outputs": [],
   "source": [
    "session = tt.create_session()"
   ]
  },
  {
   "cell_type": "markdown",
   "metadata": {},
   "source": [
    "## 1. Create stores with the data"
   ]
  },
  {
   "cell_type": "markdown",
   "metadata": {},
   "source": [
    "The dataset are publicly available on AWS S3:\n",
    "  - position :  `s3://data.atoti.io/notebooks/pnl-explained/position_sensitivities.csv`\n",
    "  - position data: `s3://data.atoti.io/notebooks/pnl-explained/position_data.csv`\n",
    "  - trading desk: `s3://data.atoti.io/notebooks/pnl-explained/trading_desk.csv`\n",
    "  - market data: `s3://data.atoti.io/notebooks/pnl-explained/market_data.csv`"
   ]
  },
  {
   "cell_type": "markdown",
   "metadata": {},
   "source": [
    "Step in this exercise:  \n",
    "  - Load the data into atoti stores\n",
    "  - Visualize what in the dataset\n",
    "  - Join the store together\n",
    "\n",
    "The purpose is to obtain a schema like that:\n",
    " \n",
    " ![](target_schema.svg)"
   ]
  },
  {
   "cell_type": "code",
   "execution_count": null,
   "metadata": {},
   "outputs": [],
   "source": []
  },
  {
   "cell_type": "markdown",
   "metadata": {},
   "source": [
    "## 2. Cube and first vizualisations\n",
    "\n",
    "Steps:\n",
    " - Create a cube on the base store.\n",
    " - Use the default measures and hierarchies to do a few plots, for instance the sum of sensi per currency and business units.\n",
    " - Create 2 new structured multilevel hierarchies:\n",
    "     - Portfolio Hierarchy with Asset Class, Sub Asset Class, Fund and Portfolio\n",
    "     - Trading Book Hierarchy with Business Unit, Sub Business Unit, Trading Desk, Book\n",
    " - Create a pivot table using these hierarchies\n",
    " - Create the theoretical PnL measure:\n",
    "     - $Yield Change = last value - start of day $\n",
    "     - $Delta = sensi \\times notional$\n",
    "     - $Theoretical Pnl = (Delta) \\times (Yield Change)$\n",
    "     - Aggregate the Theoretical PnL with a sum, using tt.agg.sum with a scope origin at the granular levels where the Theretical PnL is computed (currency, curve, tenor, book_id, instrument_code\n",
    " - Use this measure in a view"
   ]
  },
  {
   "cell_type": "markdown",
   "metadata": {},
   "source": [
    "## 3. Simulate the last value\n",
    "\n",
    "We will now simulate different scenario to what would happen to the PnL if the last value changes on the market.\n",
    "\n",
    "Such a simulation can be created by setup a simulation called \"Curve simulation\" which adds some value to the \"last.VALUE\" measure per tenor and currency"
   ]
  },
  {
   "cell_type": "code",
   "execution_count": null,
   "metadata": {},
   "outputs": [],
   "source": [
    "curve_simulation = position_sensitivity_cube.setup_simulation(\n",
    "    \"Curve Simulation\",\n",
    "    levels=[lvl[\"tenor\"], lvl[\"currency\"]],\n",
    "    add=[m[\"last.VALUE\"]],\n",
    "    base_scenario=\"Last Curve\",\n",
    ")"
   ]
  },
  {
   "cell_type": "markdown",
   "metadata": {},
   "source": [
    "Use this simulation to create 2 scenarios:\n",
    "  - Yield Curve Parallel Shift: add `-0.001` to all the tenor for a specific currency\n",
    "\n",
    "![](parallel-curve.png)\n",
    "\n",
    " - Yield curve inversion: add `-0.002` to the late tenors of a specific currency\n",
    " \n",
    "![](yield-curve-inversion.png)\n",
    "\n"
   ]
  },
  {
   "cell_type": "markdown",
   "metadata": {},
   "source": [
    "## 4. Create a dashboard\n",
    "\n",
    "We can now create a dashboard grouping several interesting widget un the Application"
   ]
  },
  {
   "cell_type": "code",
   "execution_count": null,
   "metadata": {},
   "outputs": [],
   "source": [
    "session.url"
   ]
  },
  {
   "cell_type": "code",
   "execution_count": null,
   "metadata": {},
   "outputs": [],
   "source": []
  }
 ],
 "metadata": {
  "kernelspec": {
   "display_name": "Python 3",
   "language": "python",
   "name": "python3"
  },
  "language_info": {
   "codemirror_mode": {
    "name": "ipython",
    "version": 3
   },
   "file_extension": ".py",
   "mimetype": "text/x-python",
   "name": "python",
   "nbconvert_exporter": "python",
   "pygments_lexer": "ipython3",
   "version": "3.8.5"
  }
 },
 "nbformat": 4,
 "nbformat_minor": 4
}
